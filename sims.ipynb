{
 "cells": [
  {
   "cell_type": "markdown",
   "metadata": {},
   "source": [
    "# Simulation run\n",
    "\n",
    "This notebook takes the data, which has been imputed and had constructions added, and uses SimStock to run a simulation.\n",
    "\n",
    "First, the data is read in a as a SimStockDataframe"
   ]
  },
  {
   "cell_type": "code",
   "execution_count": null,
   "metadata": {},
   "outputs": [],
   "source": [
    "import simstock as sim\n",
    "import matplotlib.pyplot as plt\n",
    "\n",
    "# Read in the data as a SimsockDataframe\n",
    "sdf = sim.read_csv(\n",
    "    \"clustered.csv\",\n",
    "    uid_column_name=\"SCU\",\n",
    "    use_base_idf=True,\n",
    "    idd_file=\"/Applications/EnergyPlus-8-9-0/Energy+.idd\" # Specify path to EnergyPlus here\n",
    "    )\n",
    "\n",
    "# Set the constructions to be the clusters\n",
    "sdf[\"construction\"] = sdf[\"Cluster\"]\n",
    "\n",
    "# Plot it\n",
    "sim.plot(sdf)\n",
    "plt.show()"
   ]
  },
  {
   "cell_type": "markdown",
   "metadata": {},
   "source": [
    "We now use the csv files in the settings folder to specify simulation settings. This is making use of SimStock's spreadsheet editing interfact: see online docs."
   ]
  },
  {
   "cell_type": "code",
   "execution_count": null,
   "metadata": {},
   "outputs": [],
   "source": [
    "sdf.override_settings_with_csv(settings_csv_path=\"data/settings\")\n",
    "sdf.preprocessing()"
   ]
  },
  {
   "cell_type": "markdown",
   "metadata": {},
   "source": [
    "Check what the output variables are."
   ]
  },
  {
   "cell_type": "code",
   "execution_count": null,
   "metadata": {},
   "outputs": [],
   "source": [
    "print(sdf.output_variable)"
   ]
  },
  {
   "cell_type": "markdown",
   "metadata": {},
   "source": [
    "Change the last one to zone outdoor air temperature."
   ]
  },
  {
   "cell_type": "code",
   "execution_count": null,
   "metadata": {},
   "outputs": [],
   "source": [
    "tmp = sdf.output_variable[2]\n",
    "tmp.Variable_Name = \"Zone Outdoor Air Temperature\"\n",
    "tmp.Reporting_Frequency = \"Hourly\"\n",
    "\n",
    "print(sdf.output_variable)"
   ]
  },
  {
   "cell_type": "markdown",
   "metadata": {},
   "source": [
    "Now we add some more output variables:"
   ]
  },
  {
   "cell_type": "code",
   "execution_count": null,
   "metadata": {},
   "outputs": [],
   "source": [
    "new_d = {\"Key_Value\": \"*\", \"Variable_Name\": \"Zone Ideal Loads Zone Total Cooling Energy\", \"Reporting_Frequency\": \"Hourly\"}\n",
    "sdf.settings.newidfobject(\"Output:Variable\", **new_d)\n",
    "new_d = {\"Key_Value\": \"*\", \"Variable_Name\": \"Zone Ideal Loads Zone Total Heating Energy\", \"Reporting_Frequency\": \"Hourly\"}\n",
    "sdf.settings.newidfobject(\"Output:Variable\", **new_d)\n",
    "new_d = {\"Key_Value\": \"*\", \"Variable_Name\": \"Zone Mean Air Temperature\", \"Reporting_Frequency\": \"Hourly\"}\n",
    "sdf.settings.newidfobject(\"Output:Variable\", **new_d)\n",
    "sdf.settings.idfobjects[\"OUTPUT:METER\"][0].Reporting_Frequency = \"Hourly\""
   ]
  },
  {
   "cell_type": "markdown",
   "metadata": {},
   "source": [
    "At this point, we wil save the simstock daataframe to csv for prosperity."
   ]
  },
  {
   "cell_type": "code",
   "execution_count": null,
   "metadata": {},
   "outputs": [],
   "source": [
    "sdf._df.to_csv(\"data/preprocessed_croydon.csv\")"
   ]
  },
  {
   "cell_type": "markdown",
   "metadata": {},
   "source": [
    "Now we set the simulation timestep and print some information about the simulation we're about to run."
   ]
  },
  {
   "cell_type": "code",
   "execution_count": null,
   "metadata": {},
   "outputs": [],
   "source": [
    "# Set timestep\n",
    "sdf.timestep = 4\n",
    "\n",
    "# Print some info\n",
    "print(f\"Number of SCUs: {sdf.length}\")\n",
    "print(f\"Number of built islands: {sdf.built_islands}\")\n",
    "print(f\"Weather file: {sdf.epw}\")\n",
    "print(f\"Are all the geometries valid? {sdf.is_valid.all()}\")\n",
    "print(f\"Timestep: {sdf.timestep}\")\n",
    "print(f\"Run period: {sdf.run_period}\")"
   ]
  },
  {
   "cell_type": "markdown",
   "metadata": {},
   "source": [
    "We'll now go ahead and create the EnergyPlus input data files, and then save them."
   ]
  },
  {
   "cell_type": "code",
   "execution_count": null,
   "metadata": {},
   "outputs": [],
   "source": [
    "simulation = sim.IDFmanager(sdf)\n",
    "simulation.create_model_idf()\n",
    "simulation.save_idfs(out_dir=\"model_idfs_rerun_2\")"
   ]
  },
  {
   "cell_type": "markdown",
   "metadata": {},
   "source": [
    "And finally, run the simulation."
   ]
  },
  {
   "cell_type": "code",
   "execution_count": null,
   "metadata": {},
   "outputs": [],
   "source": [
    "simulation.run()"
   ]
  }
 ],
 "metadata": {
  "kernelspec": {
   "display_name": "simstock-paper-w0-rI819-py3.11",
   "language": "python",
   "name": "python3"
  },
  "language_info": {
   "codemirror_mode": {
    "name": "ipython",
    "version": 3
   },
   "file_extension": ".py",
   "mimetype": "text/x-python",
   "name": "python",
   "nbconvert_exporter": "python",
   "pygments_lexer": "ipython3",
   "version": "3.11.7"
  }
 },
 "nbformat": 4,
 "nbformat_minor": 2
}
